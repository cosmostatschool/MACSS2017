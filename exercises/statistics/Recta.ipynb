{
 "cells": [
  {
   "cell_type": "code",
   "execution_count": 1,
   "metadata": {
    "collapsed": false
   },
   "outputs": [
    {
     "name": "stderr",
     "output_type": "stream",
     "text": [
      "/usr/local/lib/python2.7/site-packages/matplotlib/font_manager.py:273: UserWarning: Matplotlib is building the font cache using fc-list. This may take a moment.\n",
      "  warnings.warn('Matplotlib is building the font cache using fc-list. This may take a moment.')\n"
     ]
    }
   ],
   "source": [
    "import numpy as np\n",
    "import matplotlib.pyplot as plt\n",
    "%matplotlib inline\n",
    "import seaborn as sb\n",
    "sb.set_style('white')"
   ]
  },
  {
   "cell_type": "code",
   "execution_count": 2,
   "metadata": {
    "collapsed": true
   },
   "outputs": [],
   "source": [
    "path = '/Users/oleg/Documents/MACSS2017/pre-school/statistics/'"
   ]
  },
  {
   "cell_type": "code",
   "execution_count": 3,
   "metadata": {
    "collapsed": false
   },
   "outputs": [],
   "source": [
    "x_d, y_d, err = np.loadtxt(path+'linea_b0_10pt.txt', unpack = True)\n",
    "x_2, y_2, err2 = np.loadtxt(path+'linea_b_10pt.txt', unpack = True)"
   ]
  },
  {
   "cell_type": "code",
   "execution_count": 4,
   "metadata": {
    "collapsed": false
   },
   "outputs": [
    {
     "data": {
      "text/plain": [
       "[<matplotlib.lines.Line2D at 0x10da95bd0>]"
      ]
     },
     "execution_count": 4,
     "metadata": {},
     "output_type": "execute_result"
    },
    {
     "data": {
      "image/png": "[encoded data removed]",
      "text/plain": [
       "<matplotlib.figure.Figure at 0x10d9f4550>"
      ]
     },
     "metadata": {},
     "output_type": "display_data"
    }
   ],
   "source": [
    "plt.plot(x_d,y_d,'.r')"
   ]
  },
  {
   "cell_type": "code",
   "execution_count": 5,
   "metadata": {
    "collapsed": false
   },
   "outputs": [
    {
     "data": {
      "text/plain": [
       "<Container object of 3 artists>"
      ]
     },
     "execution_count": 5,
     "metadata": {},
     "output_type": "execute_result"
    },
    {
     "data": {
      "image/png": "[encoded data removed]",
      "text/plain": [
       "<matplotlib.figure.Figure at 0x10dae5e10>"
      ]
     },
     "metadata": {},
     "output_type": "display_data"
    }
   ],
   "source": [
    "plt.errorbar(x_d,y_d,yerr=err,fmt='o')\n",
    "plt.errorbar(x_2,y_2,yerr=err2,fmt='o')"
   ]
  },
  {
   "cell_type": "code",
   "execution_count": 6,
   "metadata": {
    "collapsed": false
   },
   "outputs": [
    {
     "name": "stdout",
     "output_type": "stream",
     "text": [
      "\u001b[33mYou are using pip version 7.0.3, however version 9.0.1 is available.\r\n",
      "You should consider upgrading via the 'pip install --upgrade pip' command.\u001b[0m\r\n",
      "appnope (0.1.0)\r\n",
      "ares (0.1)\r\n",
      "astropy (1.2.1)\r\n",
      "ATpy (0.9.7)\r\n",
      "backports-abc (0.4)\r\n",
      "backports.ssl-match-hostname (3.5.0.1)\r\n",
      "Barak (0.3.2)\r\n",
      "certifi (2016.2.28)\r\n",
      "cluster-lensing (0.1.2)\r\n",
      "configparser (3.3.0.post2)\r\n",
      "corner (1.0.2)\r\n",
      "cycler (0.10.0)\r\n",
      "Cython (0.24.1)\r\n",
      "decorator (4.0.9)\r\n",
      "emcee (2.1.0)\r\n",
      "entrypoints (0.2)\r\n",
      "ephem (3.7.6.0)\r\n",
      "functools32 (3.2.3.post2)\r\n",
      "gnureadline (6.3.3)\r\n",
      "h5py (2.6.0)\r\n",
      "healpy (1.9.1)\r\n",
      "hmf (2.0.0)\r\n",
      "ipykernel (4.3.1)\r\n",
      "ipython (4.1.2)\r\n",
      "ipython-genutils (0.1.0)\r\n",
      "ipywidgets (4.1.1)\r\n",
      "Jinja2 (2.8)\r\n",
      "jsonschema (2.5.1)\r\n",
      "jupyter (1.0.0)\r\n",
      "jupyter-client (4.2.2)\r\n",
      "jupyter-console (4.1.1)\r\n",
      "jupyter-core (4.1.0)\r\n",
      "MarkupSafe (0.23)\r\n",
      "matplotlib (1.5.2)\r\n",
      "mercurial (3.7.3)\r\n",
      "mistune (0.7.2)\r\n",
      "mpmath (0.19)\r\n",
      "nbconvert (4.2.0)\r\n",
      "nbformat (4.0.1)\r\n",
      "nose (1.3.7)\r\n",
      "notebook (4.2.0)\r\n",
      "numpy (1.11.1)\r\n",
      "pandas (0.18.1)\r\n",
      "pathlib2 (2.1.0)\r\n",
      "pexpect (4.0.1)\r\n",
      "pickleshare (0.7.2)\r\n",
      "pip (7.0.3)\r\n",
      "ptyprocess (0.5.1)\r\n",
      "pyfits (3.4)\r\n",
      "Pygments (2.1.3)\r\n",
      "pymc (2.3.6)\r\n",
      "pyparsing (2.1.8)\r\n",
      "python-dateutil (2.5.3)\r\n",
      "pytz (2016.6.1)\r\n",
      "pyzmq (15.2.0)\r\n",
      "qtconsole (4.2.1)\r\n",
      "scipy (0.18.0)\r\n",
      "seaborn (0.7.1)\r\n",
      "setuptools (17.1.1)\r\n",
      "simplegeneric (0.8.1)\r\n",
      "singledispatch (3.4.0.3)\r\n",
      "six (1.10.0)\r\n",
      "sympy (1.0)\r\n",
      "tabulate (0.7.5)\r\n",
      "terminado (0.6)\r\n",
      "tornado (4.3)\r\n",
      "traitlets (4.2.1)\r\n",
      "virtualenv (15.1.0)\r\n"
     ]
    }
   ],
   "source": [
    "!pip list"
   ]
  },
  {
   "cell_type": "code",
   "execution_count": 16,
   "metadata": {
    "collapsed": true
   },
   "outputs": [],
   "source": [
    "def chi(theta,x,y,er):\n",
    "    m,b = theta\n",
    "    chi2 = (y-(m*x+b))**2 / er**2\n",
    "    \n",
    "    return np.sum(chi2)\n",
    "    "
   ]
  },
  {
   "cell_type": "code",
   "execution_count": 17,
   "metadata": {
    "collapsed": true
   },
   "outputs": [],
   "source": [
    "import scipy.optimize as op"
   ]
  },
  {
   "cell_type": "code",
   "execution_count": 18,
   "metadata": {
    "collapsed": true
   },
   "outputs": [],
   "source": [
    "fun = lambda *args: chi(*args)"
   ]
  },
  {
   "cell_type": "code",
   "execution_count": 19,
   "metadata": {
    "collapsed": false
   },
   "outputs": [],
   "source": [
    "result = op.minimize(fun,[0.5,1.],args=(x_2,y_2,err2))"
   ]
  },
  {
   "cell_type": "code",
   "execution_count": 20,
   "metadata": {
    "collapsed": false
   },
   "outputs": [
    {
     "data": {
      "text/plain": [
       "array([ 0.49216371,  0.31432844])"
      ]
     },
     "execution_count": 20,
     "metadata": {},
     "output_type": "execute_result"
    }
   ],
   "source": [
    "result.x"
   ]
  },
  {
   "cell_type": "code",
   "execution_count": 21,
   "metadata": {
    "collapsed": true
   },
   "outputs": [],
   "source": [
    "y_n = result.x[0] * x_2 + result.x[1]"
   ]
  },
  {
   "cell_type": "code",
   "execution_count": 22,
   "metadata": {
    "collapsed": false
   },
   "outputs": [
    {
     "data": {
      "text/plain": [
       "[<matplotlib.lines.Line2D at 0x10dd31910>]"
      ]
     },
     "execution_count": 22,
     "metadata": {},
     "output_type": "execute_result"
    },
    {
     "data": {
      "image/png": "[encoded data removed]",
      "text/plain": [
       "<matplotlib.figure.Figure at 0x10dd3ca10>"
      ]
     },
     "metadata": {},
     "output_type": "display_data"
    }
   ],
   "source": [
    "figure = plt.figure()\n",
    "plt.errorbar(x_2,y_2,yerr=err2,fmt='o')\n",
    "plt.plot(x_2,y_n)"
   ]
  },
  {
   "cell_type": "code",
   "execution_count": null,
   "metadata": {
    "collapsed": true
   },
   "outputs": [],
   "source": []
  }
 ],
 "metadata": {
  "kernelspec": {
   "display_name": "Python 2",
   "language": "python",
   "name": "python2"
  },
  "language_info": {
   "codemirror_mode": {
    "name": "ipython",
    "version": 2
   },
   "file_extension": ".py",
   "mimetype": "text/x-python",
   "name": "python",
   "nbconvert_exporter": "python",
   "pygments_lexer": "ipython2",
   "version": "2.7.11"
  }
 },
 "nbformat": 4,
 "nbformat_minor": 0
}
